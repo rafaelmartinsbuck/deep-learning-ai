{
 "cells": [
  {
   "cell_type": "markdown",
   "metadata": {},
   "source": [
    "# Coding a simple ANN\n",
    "\n",
    "In this simple code fragment, we are aiming at predicting the vector `y = [0,0,1,1]` given the four inputs `X = [0,0,1],[0,1,1],[1,0,1],[1,1,1]`. The network uses a nonlinear sigmoid function. In the beginning, the weights are assigned randomly. Then for 1000 iterations, the output is updated in forwarding propagation, followed by an evaluation of the error and by a back propagation step which updates the weights considering the slope of the evaluated sigmoid at the error output times."
   ]
  },
  {
   "cell_type": "code",
   "execution_count": 6,
   "metadata": {},
   "outputs": [
    {
     "name": "stdout",
     "output_type": "stream",
     "text": [
      "Output After Training:\n",
      "[[ 0.03178421]\n",
      " [ 0.02576499]\n",
      " [ 0.97906682]\n",
      " [ 0.97414645]]\n"
     ]
    }
   ],
   "source": [
    "import numpy as np \n",
    "\n",
    "# sigmoid function \n",
    "def sigmoid(x, deriv = False):\n",
    "    \"\"\" Calculates sigmoid function (https://en.wikipedia.org/wiki/Activation_function).\n",
    "    Args:\n",
    "        x: value.\n",
    "        deriv: if False calculates the function, if True calculates the derivative.\n",
    "    Returns:\n",
    "        Sigmoid value\n",
    "    \"\"\"\n",
    "    if(deriv == True):         \n",
    "        return x * (1 - x)     \n",
    "    return 1/(1 + np.exp(-x)) \n",
    "\n",
    "# input \n",
    "X = np.array([[0,0,1],\n",
    "              [0,1,1],\n",
    "              [1,0,1],\n",
    "              [1,1,1]]) \n",
    "\n",
    "# output            \n",
    "y = np.array([[0,0,1,1]]).T # transpose\n",
    "\n",
    "np.random.seed(1)\n",
    "\n",
    "# initialize weights randomly with mean 0 for each layer\n",
    "syn0 = 2 * np.random.random((3, 1)) - 1\n",
    "l0 = X \n",
    "\n",
    "# for 1000 epochs \n",
    "for iter in range(1000): \n",
    "    # forward propagation for each layer\n",
    "    l1 = sigmoid(np.dot(l0, syn0))     \n",
    "    # error     \n",
    "    l1_error = y - l1     \n",
    "    # multiply error by the     \n",
    "    # slope of the sigmoid evaluated at l1     \n",
    "    l1_delta = l1_error * sigmoid(l1, True)     \n",
    "    # update weights     \n",
    "    syn0 += np.dot(l0.T, l1_delta) \n",
    "    \n",
    "print(\"Output After Training:\") \n",
    "print(l1)"
   ]
  }
 ],
 "metadata": {
  "kernelspec": {
   "display_name": "Python 3",
   "language": "python",
   "name": "python3"
  },
  "language_info": {
   "codemirror_mode": {
    "name": "ipython",
    "version": 3
   },
   "file_extension": ".py",
   "mimetype": "text/x-python",
   "name": "python",
   "nbconvert_exporter": "python",
   "pygments_lexer": "ipython3",
   "version": "3.5.0"
  }
 },
 "nbformat": 4,
 "nbformat_minor": 2
}
